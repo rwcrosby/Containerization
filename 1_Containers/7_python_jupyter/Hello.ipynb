{
 "cells": [
  {
   "cell_type": "code",
   "execution_count": 1,
   "id": "d4a482f3-6fa1-423e-9d00-786d1a43e01e",
   "metadata": {},
   "outputs": [
    {
     "name": "stdout",
     "output_type": "stream",
     "text": [
      "Hello Camgian\n"
     ]
    }
   ],
   "source": [
    "print(\"Hello Camgian\")"
   ]
  },
  {
   "cell_type": "code",
   "execution_count": null,
   "id": "f3931755-c01a-4b4d-8fb6-7c11835f120e",
   "metadata": {},
   "outputs": [],
   "source": []
  }
 ],
 "metadata": {
  "kernelspec": {
   "display_name": "Python 3 (ipykernel)",
   "language": "python",
   "name": "python3"
  },
  "language_info": {
   "codemirror_mode": {
    "name": "ipython",
    "version": 3
   },
   "file_extension": ".py",
   "mimetype": "text/x-python",
   "name": "python",
   "nbconvert_exporter": "python",
   "pygments_lexer": "ipython3",
   "version": "3.11.3"
  }
 },
 "nbformat": 4,
 "nbformat_minor": 5
}
